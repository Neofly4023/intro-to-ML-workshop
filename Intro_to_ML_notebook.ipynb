{
  "nbformat": 4,
  "nbformat_minor": 0,
  "metadata": {
    "colab": {
      "name": "Intro to ML notebook.ipynb",
      "version": "0.3.2",
      "provenance": [],
      "toc_visible": true,
      "include_colab_link": true
    },
    "kernelspec": {
      "name": "python3",
      "display_name": "Python 3"
    }
  },
  "cells": [
    {
      "cell_type": "markdown",
      "metadata": {
        "id": "view-in-github",
        "colab_type": "text"
      },
      "source": [
        "<a href=\"https://colab.research.google.com/github/Neofly4023/intro-to-ML-workshop/blob/master/Intro_to_ML_notebook.ipynb\" target=\"_parent\"><img src=\"https://colab.research.google.com/assets/colab-badge.svg\" alt=\"Open In Colab\"/></a>"
      ]
    },
    {
      "metadata": {
        "id": "ErAGgD_8g5KI",
        "colab_type": "text"
      },
      "cell_type": "markdown",
      "source": [
        "# Introduction\n",
        "\n",
        "Before we start, there's an easter egg, if you can find the origin of this paragraph, congrats :D\n",
        "\n",
        "“ People of tomorrow, the key was hidden from the eyes of the world and is now found again by the purest of heart.  The sacred guardians of the key were appointed by nature itself to protect the machine and guard its sacred purpose.  Until the time came when human kind needed its power once more ... ”\n",
        "\n",
        "\n",
        "We'll start with an overview of how machine learning models work and how they are used. This may feel basic if you've done statistical modeling or machine learning before.\n",
        "\n",
        "The workshop will have you build models for the following scenario:\n",
        "\n",
        "Your cousin has made millions of dollars speculating on real estate. He's offered to become business partners with you because of your interest in data science. He'll supply the money, and you'll supply models that predict how much various houses are worth.\n",
        "\n",
        "You ask your cousin how he's predicted real estate values in the past. and he says it is just intuition. But more questioning reveals that he's identified price patterns from houses he has seen in the past, and he uses those patterns to make predictions for new houses he is considering.\n",
        "\n",
        "Machine learning works the same way. We'll start with a model called the Decision Tree. There are fancier models that give more accurate predictions. But decision trees are easy to understand, and they are the basic building block for some of the best models in data science.\n",
        "\n",
        "For simplicity, we'll start with the simplest possible decision tree.\n",
        "\n",
        "![Decision tree](https://i.imgur.com/7tsb5b1.png)\n",
        "\n",
        "It divides houses into only two categories. The predicted price for any house under consideration is the historical average price of houses in the same category.\n",
        "\n",
        "We use data to decide how to break the houses into two groups, and then again to determine the predicted price in each group. This step of capturing patterns from data is called **fitting** or **training** the model. The data used to **fit** the model is called the **training data**.\n",
        "\n"
      ]
    },
    {
      "metadata": {
        "id": "BLJ744wJl1nT",
        "colab_type": "text"
      },
      "cell_type": "markdown",
      "source": [
        "# Improving the Decision Tree\n",
        "\n",
        "Which of the following two decisions trees is more likely to result from fitting the real estate training data?\n",
        "\n",
        "![Improving trees](http://i.imgur.com/prAjgku.png)\n",
        "\n",
        "The decision tree on the left (Decision Tree 1) probably makes more sense, because it captures the reality that houses with more bedrooms tend to sell at higher prices than houses with fewer bedrooms. The biggest shortcoming of this model is that it doesn't capture most factors affecting home price, like number of bathrooms, lot size, location, etc.\n",
        "\n",
        "You can capture more factors using a tree that has more \"splits.\" These are called \"deeper\" trees. A decision tree that also considers the total size of each house's lot might look like this:\n",
        "\n",
        "![Deeper tree](http://i.imgur.com/R3ywQsR.png)\n",
        "\n",
        "You predict the price of any house by tracing through the decision tree, always picking the path corresponding to that house's characteristics. The predicted price for the house is at the bottom of the tree. The point at the bottom where we make a prediction is called a **leaf**.\n",
        "\n"
      ]
    },
    {
      "metadata": {
        "id": "oSfG9NtsmaTU",
        "colab_type": "text"
      },
      "cell_type": "markdown",
      "source": [
        "# Using Pandas to Get Familiar With Your Data\n",
        "\n",
        "The first step in any machine learning project is familiarize yourself with the data. You'll use the Pandas library for this. Pandas is the primary tool data scientists use for exploring and manipulating data. Most people abbreviate pandas in their code as pd. We do this with the command :\n"
      ]
    },
    {
      "metadata": {
        "id": "akKrNN9ag4HD",
        "colab_type": "code",
        "colab": {}
      },
      "cell_type": "code",
      "source": [
        "import pandas as pd"
      ],
      "execution_count": 0,
      "outputs": []
    },
    {
      "metadata": {
        "id": "akLJOacrmhW9",
        "colab_type": "text"
      },
      "cell_type": "markdown",
      "source": [
        "The most important part of the Pandas library is the DataFrame. A DataFrame holds the type of data you might think of as a table. This is similar to a sheet in Excel, or a table in a SQL database.\n",
        "\n",
        "Pandas has powerful methods for most things you'll want to do with this type of data.\n",
        "\n",
        "As an example, we'll looking at data about home prices in Melbourne, Australia. In the hands-on exercises, you will apply the same processes to a new dataset, which has home prices in Iowa.\n",
        "\n",
        "The example (Melbourne) data is at the file path located at my github repo `https://drive.google.com/open?id=1J1hquSS58dHvD881JH_NKB_rVZtM2GMg`\n",
        "\n",
        "We load and explore the data with the following commands:"
      ]
    },
    {
      "metadata": {
        "id": "W_o6hMw7nZ__",
        "colab_type": "code",
        "colab": {}
      },
      "cell_type": "code",
      "source": [
        "# save filepath to variable for easier access\n",
        "melbourne_file_path = ' https://drive.google.com/open?id=1J1hquSS58dHvD881JH_NKB_rVZtM2GMg'\n",
        "# read the data and store data in DataFrame titled melbourne_data\n",
        "melbourne_data = pd.read_csv(melbourne_file_path) \n",
        "# print a summary of the data in Melbourne data\n",
        "melbourne_data.describe()"
      ],
      "execution_count": 0,
      "outputs": []
    }
  ]
}